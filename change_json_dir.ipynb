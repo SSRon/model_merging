{
 "cells": [
  {
   "cell_type": "code",
   "execution_count": 5,
   "id": "c3f6941f-2e57-4a75-8e3a-0eadfb7427fa",
   "metadata": {},
   "outputs": [
    {
     "name": "stdout",
     "output_type": "stream",
     "text": [
      "✅ 修正完成，已儲存為: /gscratch/tial/andysu/model_merging/data/hf_processed/de/dev_fixed.json\n"
     ]
    }
   ],
   "source": [
    "import json\n",
    "\n",
    "# original JSON \n",
    "input_path = \"/gscratch/tial/andysu/model_merging/data/hf_processed/de/dev.json\"\n",
    "# output json\n",
    "output_path = \"/gscratch/tial/andysu/model_merging/data/hf_processed/de/dev_fixed.json\"\n",
    "\n",
    "# load JSON file\n",
    "with open(input_path, \"r\") as f:\n",
    "    data = json.load(f)\n",
    "\n",
    "# revise speech dir\n",
    "for item in data:\n",
    "    if \"speech\" in item:\n",
    "        item[\"speech\"] = item[\"speech\"].replace(\"/content/data/origin/covost2_de/clips/\", \"/gscratch/tial/andysu/model_merging/data/origin/covost2_de/clips/\")\n",
    "\n",
    "# save JSON\n",
    "with open(output_path, \"w\") as f:\n",
    "    json.dump(data, f, indent=2)\n",
    "\n",
    "print(\"Save Completed to be:\", output_path)\n"
   ]
  },
  {
   "cell_type": "code",
   "execution_count": 6,
   "id": "161e698d-cb43-4196-944b-ba7dc7e93567",
   "metadata": {},
   "outputs": [
    {
     "name": "stdout",
     "output_type": "stream",
     "text": [
      "✅ File exists.\n"
     ]
    }
   ],
   "source": [
    "import os\n",
    "\n",
    "file_path = \"/gscratch/tial/andysu/model_merging/data/origin/covost2_de/clips/common_voice_de_17516930.mp3\"\n",
    "\n",
    "if os.path.isfile(file_path):\n",
    "    print(\"✅ File exists.\")\n",
    "else:\n",
    "    print(\"❌ File NOT found.\")\n"
   ]
  },
  {
   "cell_type": "code",
   "execution_count": null,
   "id": "2c510add-6c50-4410-88cc-2bb9ce6ddc69",
   "metadata": {},
   "outputs": [],
   "source": []
  }
 ],
 "metadata": {
  "kernelspec": {
   "display_name": "Python 3 (ipykernel)",
   "language": "python",
   "name": "python3"
  },
  "language_info": {
   "codemirror_mode": {
    "name": "ipython",
    "version": 3
   },
   "file_extension": ".py",
   "mimetype": "text/x-python",
   "name": "python",
   "nbconvert_exporter": "python",
   "pygments_lexer": "ipython3",
   "version": "3.10.16"
  }
 },
 "nbformat": 4,
 "nbformat_minor": 5
}
